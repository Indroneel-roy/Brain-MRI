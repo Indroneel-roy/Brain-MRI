{
 "cells": [
  {
   "cell_type": "markdown",
   "metadata": {},
   "source": [
    "# 🧠 BRISC 2025 Dataset Exploration\n",
    "\n",
    "This notebook provides a **comprehensive** overview of the **BRISC 2025** MRI dataset:\n",
    "1. Setup & Imports  \n",
    "2. Directory Structure  \n",
    "3. File Counts & Distributions  \n",
    "4. Plotting Distributions \n",
    "5. Per‑Plane Classification Counts  \n",
    "6. Sample Image & Mask Display \n",
    "7. Pixel‑Intensity Histograms \n",
    "8. Filename Metadata Parsing\n",
    "9. Mask Overlay Example  \n",
    "10. Random Grid of Classification Samples\n",
    "11. Next Steps"
   ]
  },
  {
   "cell_type": "markdown",
   "metadata": {},
   "source": [
    "## ⚙️ 1. Setup & Imports\n",
    "\n",
    "In this step, we import all the required libraries for:\n",
    "- File and directory operations (`os`, `glob`)\n",
    "- Data handling (`pandas`, `numpy`)\n",
    "- Image processing (`PIL.Image`)\n",
    "- Visualization (`matplotlib`)\n",
    "\n",
    "We also define the base path to the BRISC2025 dataset inside the Kaggle environment.  \n",
    "Make sure this path points correctly to where the dataset is located."
   ]
  },
  {
   "cell_type": "code",
   "execution_count": null,
   "metadata": {
    "execution": {
     "iopub.execute_input": "2025-06-24T21:28:26.718014Z",
     "iopub.status.busy": "2025-06-24T21:28:26.717657Z",
     "iopub.status.idle": "2025-06-24T21:28:27.117966Z",
     "shell.execute_reply": "2025-06-24T21:28:27.116857Z",
     "shell.execute_reply.started": "2025-06-24T21:28:26.717987Z"
    },
    "trusted": true
   },
   "outputs": [],
   "source": [
    "# In[1] — Setup & Imports\n",
    "import os, glob\n",
    "import numpy as np\n",
    "import pandas as pd\n",
    "import matplotlib.pyplot as plt\n",
    "from PIL import Image\n",
    "\n",
    "# Render plots inline\n",
    "%matplotlib inline\n",
    "\n",
    "# Base directory inside Kaggle\n",
    "BASE_DIR = \"/kaggle/input/brisc2025\"\n",
    "print(\"✅ BASE_DIR =\", BASE_DIR)\n",
    "\n",
    "BASE_DIR = \"/kaggle/input/brisc2025/brisc2025\"\n",
    "print(\"✅ Final BASE_DIR =\", BASE_DIR)\n",
    "\n"
   ]
  },
  {
   "cell_type": "markdown",
   "metadata": {},
   "source": [
    "## 📂 2. Directory Structure\n",
    "\n",
    "Recursively walk through `BASE_DIR` (depth=2) to confirm folder layout."
   ]
  },
  {
   "cell_type": "code",
   "execution_count": null,
   "metadata": {
    "execution": {
     "iopub.execute_input": "2025-06-24T21:28:31.50272Z",
     "iopub.status.busy": "2025-06-24T21:28:31.502117Z",
     "iopub.status.idle": "2025-06-24T21:28:52.913623Z",
     "shell.execute_reply": "2025-06-24T21:28:52.912654Z",
     "shell.execute_reply.started": "2025-06-24T21:28:31.502685Z"
    },
    "trusted": true
   },
   "outputs": [],
   "source": [
    "# In[2] — Directory Tree\n",
    "def walk_dir(base, max_depth=2):\n",
    "    for root, dirs, _ in os.walk(base):\n",
    "        depth = root.replace(base, \"\").count(os.sep)\n",
    "        if depth <= max_depth:\n",
    "            indent = \"  \" * depth\n",
    "            print(f\"{indent}{os.path.basename(root)}/\")\n",
    "            for d in dirs:\n",
    "                print(f\"{indent}  {d}/\")\n",
    "\n",
    "print(\"## BRISC2025 Folder Layout:\")\n",
    "walk_dir(BASE_DIR, max_depth=2)\n"
   ]
  },
  {
   "cell_type": "markdown",
   "metadata": {},
   "source": [
    "## 📊 3. File Counts & Distributions\n",
    "\n",
    "Count `.jpg` in each split/class or type.\n"
   ]
  },
  {
   "cell_type": "code",
   "execution_count": null,
   "metadata": {
    "execution": {
     "iopub.execute_input": "2025-06-24T21:29:05.750991Z",
     "iopub.status.busy": "2025-06-24T21:29:05.750609Z",
     "iopub.status.idle": "2025-06-24T21:29:05.855127Z",
     "shell.execute_reply": "2025-06-24T21:29:05.854199Z",
     "shell.execute_reply.started": "2025-06-24T21:29:05.750959Z"
    },
    "trusted": true
   },
   "outputs": [],
   "source": [
    "# File Count Logic (no need to change if BASE_DIR is fixed)\n",
    "def count_patterns(patterns):\n",
    "    return sum(len(glob.glob(p)) for p in patterns)\n",
    "\n",
    "# Classification\n",
    "splits = [\"train\", \"test\"]\n",
    "classes = [\"glioma\", \"meningioma\", \"pituitary\", \"no_tumor\"]\n",
    "cls_records = []\n",
    "for sp in splits:\n",
    "    total = 0\n",
    "    for cls in classes:\n",
    "        pat = os.path.join(BASE_DIR, \"classification_task\", sp, cls, \"*.jpg\")\n",
    "        cnt = count_patterns([pat])\n",
    "        cls_records.append({'Split': sp, 'Class': cls, 'Count': cnt})\n",
    "        total += cnt\n",
    "    cls_records.append({'Split': sp, 'Class': 'Total', 'Count': total})\n",
    "df_cls = pd.DataFrame(cls_records)\n",
    "\n",
    "# Segmentation\n",
    "types_ = [\"images\", \"masks\"]\n",
    "seg_records = []\n",
    "for sp in splits:\n",
    "    for tp in types_:\n",
    "        pats = [\n",
    "            os.path.join(BASE_DIR, \"segmentation_task\", sp, tp, \"*.jpg\"),\n",
    "            os.path.join(BASE_DIR, \"segmentation_task\", sp, tp, \"*.png\")\n",
    "        ]\n",
    "        cnt = count_patterns(pats)\n",
    "        seg_records.append({'Split': sp, 'Type': tp, 'Count': cnt})\n",
    "df_seg = pd.DataFrame(seg_records)\n",
    "\n",
    "# Display\n",
    "print(\"### Classification Counts\")\n",
    "display(df_cls)\n",
    "print(\"### Segmentation Counts\")\n",
    "display(df_seg)\n"
   ]
  },
  {
   "cell_type": "markdown",
   "metadata": {},
   "source": [
    "## 📊 4. Plotting Distributions\n",
    "\n",
    "Visualize counts per class/split and per type/split.\n"
   ]
  },
  {
   "cell_type": "code",
   "execution_count": null,
   "metadata": {
    "execution": {
     "iopub.execute_input": "2025-06-24T21:29:22.652167Z",
     "iopub.status.busy": "2025-06-24T21:29:22.651816Z",
     "iopub.status.idle": "2025-06-24T21:29:23.278501Z",
     "shell.execute_reply": "2025-06-24T21:29:23.277417Z",
     "shell.execute_reply.started": "2025-06-24T21:29:22.652141Z"
    },
    "trusted": true
   },
   "outputs": [],
   "source": [
    "# In[4] — Distribution Plots\n",
    "for sp in splits:\n",
    "    sub = df_cls[df_cls.Split==sp]\n",
    "    plt.figure(figsize=(5,3))\n",
    "    plt.bar(sub.Class, sub.Count, edgecolor='k')\n",
    "    plt.title(f\"{sp.title()} Classification Distribution\")\n",
    "    plt.ylabel(\"Count\")\n",
    "    plt.xticks(rotation=45)\n",
    "    plt.show()\n",
    "\n",
    "for sp in splits:\n",
    "    sub = df_seg[df_seg.Split==sp]\n",
    "    plt.figure(figsize=(5,3))\n",
    "    plt.bar(sub.Type, sub.Count, edgecolor='k')\n",
    "    plt.title(f\"{sp.title()} Segmentation Distribution\")\n",
    "    plt.ylabel(\"Count\")\n",
    "    plt.show()\n"
   ]
  },
  {
   "cell_type": "markdown",
   "metadata": {},
   "source": [
    "## 📈 5. Per‑Plane Classification Counts\n",
    "\n",
    "Break down classification images by anatomical plane."
   ]
  },
  {
   "cell_type": "code",
   "execution_count": null,
   "metadata": {
    "execution": {
     "iopub.execute_input": "2025-06-24T21:31:31.673406Z",
     "iopub.status.busy": "2025-06-24T21:31:31.67246Z",
     "iopub.status.idle": "2025-06-24T21:31:31.766881Z",
     "shell.execute_reply": "2025-06-24T21:31:31.766075Z",
     "shell.execute_reply.started": "2025-06-24T21:31:31.673375Z"
    },
    "trusted": true
   },
   "outputs": [],
   "source": [
    "# In[5] — Per‑Plane Counts\n",
    "planes = [\"ax\", \"co\", \"sa\"]\n",
    "plane_records = []\n",
    "\n",
    "for sp in splits:\n",
    "    for cls in classes:\n",
    "        for pl in planes:\n",
    "            pat = os.path.join(\n",
    "                BASE_DIR, \"classification_task\", sp, cls, f\"*_{pl}_t1.jpg\"\n",
    "            )\n",
    "            cnt = count_patterns([pat])\n",
    "            plane_records.append({'Split': sp, 'Class': cls, 'Plane': pl, 'Count': cnt})\n",
    "\n",
    "df_plane = pd.DataFrame(plane_records)\n",
    "print(\"### Per‑Plane Counts Pivot\")\n",
    "display(df_plane.pivot_table(index='Plane', columns=['Split','Class'], values='Count'))\n"
   ]
  },
  {
   "cell_type": "markdown",
   "metadata": {},
   "source": [
    "## 🖼️ 6. Sample Image & Mask Display\n",
    "\n",
    "Show one classification example and its segmentation mask."
   ]
  },
  {
   "cell_type": "code",
   "execution_count": null,
   "metadata": {
    "execution": {
     "iopub.execute_input": "2025-06-24T21:32:43.687391Z",
     "iopub.status.busy": "2025-06-24T21:32:43.686941Z",
     "iopub.status.idle": "2025-06-24T21:32:44.096557Z",
     "shell.execute_reply": "2025-06-24T21:32:44.09533Z",
     "shell.execute_reply.started": "2025-06-24T21:32:43.687358Z"
    },
    "trusted": true
   },
   "outputs": [],
   "source": [
    "# In[6] — Sample Visualization\n",
    "def first_file(folder, exts):\n",
    "    for ext in exts:\n",
    "        fl = glob.glob(os.path.join(folder, f\"*.{ext}\"))\n",
    "        if fl: return fl[0]\n",
    "    return None\n",
    "\n",
    "img_path  = first_file(os.path.join(BASE_DIR, \"classification_task/train/glioma\"), [\"jpg\"])\n",
    "mask_path = first_file(os.path.join(BASE_DIR, \"segmentation_task/train/masks\"), [\"png\",\"jpg\"])\n",
    "\n",
    "img  = Image.open(img_path)\n",
    "mask = Image.open(mask_path)\n",
    "\n",
    "fig, axes = plt.subplots(1,2, figsize=(10,5))\n",
    "axes[0].imshow(img,  cmap=\"gray\"); axes[0].set_title(\"Classification: Glioma\"); axes[0].axis(\"off\")\n",
    "axes[1].imshow(mask, cmap=\"gray\"); axes[1].set_title(\"Segmentation Mask\");    axes[1].axis(\"off\")\n",
    "plt.show()"
   ]
  },
  {
   "cell_type": "markdown",
   "metadata": {},
   "source": [
    "## 📈 7. Pixel‑Intensity Histograms\n",
    "\n",
    "Overlay histograms of image vs. mask pixel values."
   ]
  },
  {
   "cell_type": "code",
   "execution_count": null,
   "metadata": {
    "execution": {
     "iopub.execute_input": "2025-06-24T21:33:07.208174Z",
     "iopub.status.busy": "2025-06-24T21:33:07.207766Z",
     "iopub.status.idle": "2025-06-24T21:33:07.57991Z",
     "shell.execute_reply": "2025-06-24T21:33:07.578734Z",
     "shell.execute_reply.started": "2025-06-24T21:33:07.208142Z"
    },
    "trusted": true
   },
   "outputs": [],
   "source": [
    "# In[7] — Histograms\n",
    "arr_img  = np.array(img).ravel()\n",
    "arr_mask = np.array(mask).ravel()\n",
    "\n",
    "plt.figure(figsize=(6,4))\n",
    "plt.hist(arr_img,  bins=50, alpha=0.7, label=\"Image\")\n",
    "plt.hist(arr_mask, bins=50, alpha=0.7, label=\"Mask\")\n",
    "plt.legend(); plt.title(\"Pixel Intensity Distribution\"); plt.show()"
   ]
  },
  {
   "cell_type": "markdown",
   "metadata": {},
   "source": [
    "## 📝 8. Filename Metadata Parsing\n",
    "\n",
    "Turn filename components into a pandas DataFrame."
   ]
  },
  {
   "cell_type": "code",
   "execution_count": null,
   "metadata": {
    "execution": {
     "iopub.execute_input": "2025-06-24T21:35:51.988276Z",
     "iopub.status.busy": "2025-06-24T21:35:51.987869Z",
     "iopub.status.idle": "2025-06-24T21:35:52.031756Z",
     "shell.execute_reply": "2025-06-24T21:35:52.030807Z",
     "shell.execute_reply.started": "2025-06-24T21:35:51.988246Z"
    },
    "trusted": true
   },
   "outputs": [],
   "source": [
    "# In[8] — Metadata Table\n",
    "meta = []\n",
    "for sp in splits:\n",
    "    for cls in classes:\n",
    "        files = glob.glob(os.path.join(BASE_DIR, \"classification_task\", sp, cls, \"*.jpg\"))[:1]\n",
    "        for f in files:\n",
    "            parts = os.path.basename(f).split(\"_\")\n",
    "            meta.append({\n",
    "                \"Filename\": os.path.basename(f),\n",
    "                \"Split\": parts[1],\n",
    "                \"Index\": parts[2],\n",
    "                \"Tumor\": parts[3],\n",
    "                \"Plane\": parts[4],\n",
    "                \"Sequence\": parts[5].split(\".\")[0]\n",
    "            })\n",
    "df_meta = pd.DataFrame(meta)\n",
    "print(\"### Sample Filename Metadata\")\n",
    "display(df_meta)"
   ]
  },
  {
   "cell_type": "markdown",
   "metadata": {},
   "source": [
    "## 🔍 9. Mask Overlay Example\n",
    "\n",
    "Overlay the mask in red on the grayscale image."
   ]
  },
  {
   "cell_type": "code",
   "execution_count": null,
   "metadata": {
    "execution": {
     "iopub.execute_input": "2025-06-24T21:36:45.264475Z",
     "iopub.status.busy": "2025-06-24T21:36:45.264016Z",
     "iopub.status.idle": "2025-06-24T21:36:45.444815Z",
     "shell.execute_reply": "2025-06-24T21:36:45.443781Z",
     "shell.execute_reply.started": "2025-06-24T21:36:45.264435Z"
    },
    "trusted": true
   },
   "outputs": [],
   "source": [
    "# In[9] — Overlay\n",
    "img_rgb  = np.array(img.convert(\"RGB\"))\n",
    "mask_arr = np.array(mask)\n",
    "\n",
    "overlay = img_rgb.copy()\n",
    "overlay[mask_arr>0] = [255,0,0]\n",
    "\n",
    "plt.figure(figsize=(6,6))\n",
    "plt.imshow(overlay); plt.title(\"Red Overlay = Tumor\"); plt.axis(\"off\")\n",
    "plt.show()"
   ]
  },
  {
   "cell_type": "markdown",
   "metadata": {},
   "source": [
    "## 🔲 10. Random Grid of Classification Samples\n",
    "\n",
    "Display a 3×3 grid of random training images."
   ]
  },
  {
   "cell_type": "code",
   "execution_count": null,
   "metadata": {
    "execution": {
     "iopub.execute_input": "2025-06-24T21:38:29.855672Z",
     "iopub.status.busy": "2025-06-24T21:38:29.85519Z",
     "iopub.status.idle": "2025-06-24T21:38:30.918345Z",
     "shell.execute_reply": "2025-06-24T21:38:30.917494Z",
     "shell.execute_reply.started": "2025-06-24T21:38:29.855642Z"
    },
    "trusted": true
   },
   "outputs": [],
   "source": [
    "# In[10] — Random Grid\n",
    "samples = glob.glob(os.path.join(BASE_DIR, \"classification_task/train/*/*.jpg\"))\n",
    "grid = np.random.choice(samples, 9, replace=False)\n",
    "\n",
    "fig, axes = plt.subplots(3,3, figsize=(8,8))\n",
    "axes = axes.flatten()\n",
    "for ax, fp in zip(axes, grid):\n",
    "    im = Image.open(fp)\n",
    "    cls = os.path.basename(fp).split(\"_\")[3]\n",
    "    ax.imshow(im, cmap=\"gray\")\n",
    "    ax.set_title(cls)\n",
    "    ax.axis(\"off\")\n",
    "plt.tight_layout()\n",
    "plt.show()"
   ]
  }
 ],
 "metadata": {
  "kaggle": {
   "accelerator": "none",
   "dataSources": [
    {
     "datasetId": 7632487,
     "sourceId": 12527845,
     "sourceType": "datasetVersion"
    }
   ],
   "dockerImageVersionId": 31040,
   "isGpuEnabled": false,
   "isInternetEnabled": true,
   "language": "python",
   "sourceType": "notebook"
  },
  "kernelspec": {
   "display_name": "Python 3",
   "language": "python",
   "name": "python3"
  },
  "language_info": {
   "codemirror_mode": {
    "name": "ipython",
    "version": 3
   },
   "file_extension": ".py",
   "mimetype": "text/x-python",
   "name": "python",
   "nbconvert_exporter": "python",
   "pygments_lexer": "ipython3",
   "version": "3.11.11"
  }
 },
 "nbformat": 4,
 "nbformat_minor": 4
}
